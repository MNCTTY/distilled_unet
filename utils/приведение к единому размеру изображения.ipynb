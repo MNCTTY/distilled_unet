{
 "cells": [
  {
   "cell_type": "code",
   "execution_count": null,
   "metadata": {},
   "outputs": [],
   "source": [
    "mask = Image.open(mask_file[0])\n",
    "print(mask)\n",
    "img = Image.open(img_file[0]).convert('L')\n",
    "#         .convert('L')\n",
    "print(img)"
   ]
  },
  {
   "cell_type": "code",
   "execution_count": 14,
   "metadata": {},
   "outputs": [],
   "source": [
    "dir_img = '/home/karina/T2_Sag_Mid/test_data/imgs/'\n",
    "dir_mask = '/home/karina/T2_Sag_Mid/test_data/masks/'"
   ]
  },
  {
   "cell_type": "code",
   "execution_count": 15,
   "metadata": {},
   "outputs": [],
   "source": [
    "import os"
   ]
  },
  {
   "cell_type": "code",
   "execution_count": 40,
   "metadata": {},
   "outputs": [],
   "source": [
    "imgs = os.listdir(dir_img)\n",
    "masks = os.listdir(dir_mask)"
   ]
  },
  {
   "cell_type": "code",
   "execution_count": 17,
   "metadata": {},
   "outputs": [],
   "source": [
    "from PIL import Image\n"
   ]
  },
  {
   "cell_type": "code",
   "execution_count": 23,
   "metadata": {},
   "outputs": [],
   "source": [
    "img = Image.open(dir_img + imgs[100]).convert('L')"
   ]
  },
  {
   "cell_type": "code",
   "execution_count": 25,
   "metadata": {},
   "outputs": [
    {
     "data": {
      "text/plain": [
       "(320, 316)"
      ]
     },
     "execution_count": 25,
     "metadata": {},
     "output_type": "execute_result"
    }
   ],
   "source": [
    "img.size"
   ]
  },
  {
   "cell_type": "markdown",
   "metadata": {},
   "source": [
    "при чтении opencv"
   ]
  },
  {
   "cell_type": "code",
   "execution_count": 28,
   "metadata": {},
   "outputs": [
    {
     "data": {
      "text/plain": [
       "True"
      ]
     },
     "execution_count": 28,
     "metadata": {},
     "output_type": "execute_result"
    }
   ],
   "source": [
    "import cv2\n",
    "import numpy as np\n",
    "\n",
    "# read image\n",
    "img = cv2.imread(dir_img + imgs[100])\n",
    "ht, wd, cc= img.shape\n",
    "\n",
    "# create new image of desired size and color (blue) for padding\n",
    "ww = 400\n",
    "hh = 400\n",
    "color = (255,0,0)\n",
    "result = np.full((hh,ww,cc), color, dtype=np.uint8)\n",
    "\n",
    "# compute center offset\n",
    "xx = (ww - wd) // 2\n",
    "yy = (hh - ht) // 2\n",
    "\n",
    "# copy img image into center of result image\n",
    "result[yy:yy+ht, xx:xx+wd] = img\n",
    "\n",
    "# save result\n",
    "cv2.imwrite(\"casted.jpg\", result)"
   ]
  },
  {
   "cell_type": "markdown",
   "metadata": {},
   "source": [
    "при чтении image"
   ]
  },
  {
   "cell_type": "code",
   "execution_count": null,
   "metadata": {},
   "outputs": [],
   "source": [
    "# create new image of desired size for padding\n",
    "ww = 400\n",
    "hh = 400"
   ]
  },
  {
   "cell_type": "code",
   "execution_count": 45,
   "metadata": {},
   "outputs": [],
   "source": [
    "# read image\n",
    "img = Image.open(dir_img + imgs[100]).convert('L')\n",
    "wd, ht = img.size\n",
    "\n",
    "# color = (255 ,0, 0)\n",
    "result_img = np.full((hh,ww), 0, dtype=np.uint8)\n",
    "\n",
    "# compute center offset\n",
    "xx = (ww - wd) // 2\n",
    "yy = (hh - ht) // 2\n",
    "\n",
    "# copy img image into center of result image\n",
    "result_img[yy:yy+ht, xx:xx+wd] = img\n",
    "\n",
    "# # save result\n",
    "# cv2.imwrite(\"casted.jpg\", result)"
   ]
  },
  {
   "cell_type": "code",
   "execution_count": 46,
   "metadata": {},
   "outputs": [],
   "source": [
    "mask = Image.open(dir_mask + masks[100])\n",
    "wd, ht = mask.size\n",
    "\n",
    "# color = (255 ,0, 0)\n",
    "result_mask = np.full((hh,ww,3), 0, dtype=np.uint8)\n",
    "\n",
    "# compute center offset\n",
    "xx = (ww - wd) // 2\n",
    "yy = (hh - ht) // 2\n",
    "\n",
    "# copy img image into center of result image\n",
    "result_mask[yy:yy+ht, xx:xx+wd] = mask\n",
    "\n",
    "# # save result\n",
    "# cv2.imwrite(\"casted_mask.jpg\", result)"
   ]
  },
  {
   "cell_type": "code",
   "execution_count": null,
   "metadata": {},
   "outputs": [],
   "source": [
    "# PIL_image = Image.fromarray(numpy_image.astype('uint8'), 'RGB')"
   ]
  },
  {
   "cell_type": "code",
   "execution_count": 47,
   "metadata": {},
   "outputs": [],
   "source": [
    "PIL_image = Image.fromarray(np.uint8(result_img))"
   ]
  },
  {
   "cell_type": "code",
   "execution_count": 49,
   "metadata": {},
   "outputs": [
    {
     "data": {
      "text/plain": [
       "PIL.Image.Image"
      ]
     },
     "execution_count": 49,
     "metadata": {},
     "output_type": "execute_result"
    }
   ],
   "source": [
    "type(PIL_image)"
   ]
  },
  {
   "cell_type": "code",
   "execution_count": 50,
   "metadata": {},
   "outputs": [
    {
     "data": {
      "text/plain": [
       "'L'"
      ]
     },
     "execution_count": 50,
     "metadata": {},
     "output_type": "execute_result"
    }
   ],
   "source": [
    "PIL_image.mode"
   ]
  },
  {
   "cell_type": "markdown",
   "metadata": {},
   "source": [
    "/home/karina/T2_Sag_Mid/train_data/masks/02236.PNG\n",
    "error in result_mask[yy:yy+ht_m, xx:xx+wd_m] = mask!!!!\n",
    "/home/karina/T2_Sag_Mid/train_data/imgs/02236.PNG\n",
    "error in result_img[yy:yy+ht_im, xx:xx+wd_im] = img!!!!\n",
    "/home/karina/T2_Sag_Mid/train_data/masks/02244.PNG\n",
    "error in result_mask[yy:yy+ht_m, xx:xx+wd_m] = mask!!!!\n",
    "/home/karina/T2_Sag_Mid/train_data/imgs/02244.PNG\n",
    "error in result_img[yy:yy+ht_im, xx:xx+wd_im] = img!!!!\n",
    "/home/karina/T2_Sag_Mid/train_data/masks/02262.PNG\n",
    "error in result_mask[yy:yy+ht_m, xx:xx+wd_m] = mask!!!!\n",
    "/home/karina/T2_Sag_Mid/train_data/imgs/02262.PNG\n",
    "/home/karina/T2_Sag_Mid/train_data/masks/02258.PNG\n",
    "error in result_mask[yy:yy+ht_m, xx:xx+wd_m] = mask!!!!\n",
    "error in result_img[yy:yy+ht_im, xx:xx+wd_im] = img!!!!\n",
    "/home/karina/T2_Sag_Mid/train_data/imgs/02258.PNG\n",
    "error in result_img[yy:yy+ht_im, xx:xx+wd_im] = img!!!!\n",
    "/home/karina/T2_Sag_Mid/train_data/masks/02233.PNG\n",
    "error in result_mask[yy:yy+ht_m, xx:xx+wd_m] = mask!!!!\n",
    "/home/karina/T2_Sag_Mid/train_data/imgs/02233.PNG\n",
    "error in result_img[yy:yy+ht_im, xx:xx+wd_im] = img!!!!\n",
    "/home/karina/T2_Sag_Mid/train_data/masks/02243.PNG\n",
    "error in result_mask[yy:yy+ht_m, xx:xx+wd_m] = mask!!!!\n",
    "/home/karina/T2_Sag_Mid/train_data/imgs/02243.PNG\n",
    "error in result_img[yy:yy+ht_im, xx:xx+wd_im] = img!!!!\n",
    "/home/karina/T2_Sag_Mid/train_data/masks/02254.PNG\n",
    "error in result_mask[yy:yy+ht_m, xx:xx+wd_m] = mask!!!!\n",
    "/home/karina/T2_Sag_Mid/train_data/imgs/02254.PNG\n",
    "error in result_img[yy:yy+ht_im, xx:xx+wd_im] = img!!!!\n",
    "/home/karina/T2_Sag_Mid/train_data/masks/02240.PNG\n",
    "error in result_mask[yy:yy+ht_m, xx:xx+wd_m] = mask!!!!\n",
    "/home/karina/T2_Sag_Mid/train_data/imgs/02240.PNG\n",
    "error in result_img[yy:yy+ht_im, xx:xx+wd_im] = img!!!!\n",
    "/home/karina/T2_Sag_Mid/train_data/masks/02242.PNG\n",
    "error in result_mask[yy:yy+ht_m, xx:xx+wd_m] = mask!!!!\n",
    "/home/karina/T2_Sag_Mid/train_data/imgs/02242.PNG\n",
    "error in result_img[yy:yy+ht_im, xx:xx+wd_im] = img!!!!\n",
    "/home/karina/T2_Sag_Mid/train_data/masks/02241.PNG\n",
    "error in result_mask[yy:yy+ht_m, xx:xx+wd_m] = mask!!!!\n",
    "/home/karina/T2_Sag_Mid/train_data/imgs/02241.PNG\n",
    "error in result_img[yy:yy+ht_im, xx:xx+wd_im] = img!!!!\n",
    "/home/karina/T2_Sag_Mid/train_data/masks/02222.PNG\n",
    "error in result_mask[yy:yy+ht_m, xx:xx+wd_m] = mask!!!!\n",
    "/home/karina/T2_Sag_Mid/train_data/imgs/02222.PNG\n",
    "error in result_img[yy:yy+ht_im, xx:xx+wd_im] = img!!!!\n",
    "/home/karina/T2_Sag_Mid/train_data/masks/01215.PNG\n",
    "error in result_mask[yy:yy+ht_m, xx:xx+wd_m] = mask!!!!\n",
    "/home/karina/T2_Sag_Mid/train_data/imgs/01215.PNG\n",
    "error in result_img[yy:yy+ht_im, xx:xx+wd_im] = img!!!!\n",
    "/home/karina/T2_Sag_Mid/train_data/masks/02249.PNG\n",
    "error in result_mask[yy:yy+ht_m, xx:xx+wd_m] = mask!!!!\n",
    "/home/karina/T2_Sag_Mid/train_data/imgs/02249.PNG\n",
    "error in result_img[yy:yy+ht_im, xx:xx+wd_im] = img!!!!\n",
    "/home/karina/T2_Sag_Mid/train_data/masks/02259.PNG\n",
    "error in result_mask[yy:yy+ht_m, xx:xx+wd_m] = mask!!!!\n",
    "/home/karina/T2_Sag_Mid/train_data/masks/02245.PNG\n",
    "error in result_mask[yy:yy+ht_m, xx:xx+wd_m] = mask!!!!\n",
    "/home/karina/T2_Sag_Mid/train_data/imgs/02245.PNG\n",
    "/home/karina/T2_Sag_Mid/train_data/imgs/02259.PNG\n",
    "error in result_img[yy:yy+ht_im, xx:xx+wd_im] = img!!!!\n",
    "error in result_img[yy:yy+ht_im, xx:xx+wd_im] = img!!!!\n",
    "/home/karina/T2_Sag_Mid/train_data/masks/02224.PNG\n",
    "error in result_mask[yy:yy+ht_m, xx:xx+wd_m] = mask!!!!\n",
    "/home/karina/T2_Sag_Mid/train_data/imgs/02224.PNG\n",
    "error in result_img[yy:yy+ht_im, xx:xx+wd_im] = img!!!!\n",
    "/home/karina/T2_Sag_Mid/train_data/masks/02251.PNG\n",
    "error in result_mask[yy:yy+ht_m, xx:xx+wd_m] = mask!!!!\n",
    "/home/karina/T2_Sag_Mid/train_data/imgs/02251.PNG\n",
    "error in result_img[yy:yy+ht_im, xx:xx+wd_im] = img!!!!\n",
    "/home/karina/T2_Sag_Mid/train_data/masks/02234.PNG\n",
    "/home/karina/T2_Sag_Mid/train_data/masks/02267.PNG\n",
    "error in result_mask[yy:yy+ht_m, xx:xx+wd_m] = mask!!!!\n",
    "error in result_mask[yy:yy+ht_m, xx:xx+wd_m] = mask!!!!\n",
    "/home/karina/T2_Sag_Mid/train_data/imgs/02234.PNG\n",
    "/home/karina/T2_Sag_Mid/train_data/imgs/02267.PNG\n",
    "error in result_img[yy:yy+ht_im, xx:xx+wd_im] = img!!!!\n",
    "error in result_img[yy:yy+ht_im, xx:xx+wd_im] = img!!!!\n",
    "/home/karina/T2_Sag_Mid/train_data/masks/02237.PNG\n",
    "error in result_mask[yy:yy+ht_m, xx:xx+wd_m] = mask!!!!\n",
    "/home/karina/T2_Sag_Mid/train_data/imgs/02237.PNG\n",
    "error in result_img[yy:yy+ht_im, xx:xx+wd_im] = img!!!!\n",
    "/home/karina/T2_Sag_Mid/train_data/masks/02248.PNG\n",
    "error in result_mask[yy:yy+ht_m, xx:xx+wd_m] = mask!!!!\n",
    "/home/karina/T2_Sag_Mid/train_data/imgs/02248.PNG\n",
    "error in result_img[yy:yy+ht_im, xx:xx+wd_im] = img!!!!\n",
    "/home/karina/T2_Sag_Mid/train_data/masks/02238.PNG\n",
    "error in result_mask[yy:yy+ht_m, xx:xx+wd_m] = mask!!!!\n",
    "/home/karina/T2_Sag_Mid/train_data/imgs/02238.PNG\n",
    "error in result_img[yy:yy+ht_im, xx:xx+wd_im] = img!!!!\n",
    "/home/karina/T2_Sag_Mid/train_data/masks/02270.PNG\n",
    "error in result_mask[yy:yy+ht_m, xx:xx+wd_m] = mask!!!!\n",
    "/home/karina/T2_Sag_Mid/train_data/imgs/02270.PNG\n",
    "error in result_img[yy:yy+ht_im, xx:xx+wd_im] = img!!!!\n",
    "/home/karina/T2_Sag_Mid/train_data/masks/02232.PNG\n",
    "error in result_mask[yy:yy+ht_m, xx:xx+wd_m] = mask!!!!\n",
    "/home/karina/T2_Sag_Mid/train_data/imgs/02232.PNG\n",
    "error in result_img[yy:yy+ht_im, xx:xx+wd_im] = img!!!!\n",
    "/home/karina/T2_Sag_Mid/train_data/masks/02227.PNG\n",
    "error in result_mask[yy:yy+ht_m, xx:xx+wd_m] = mask!!!!\n",
    "/home/karina/T2_Sag_Mid/train_data/imgs/02227.PNG\n",
    "error in result_img[yy:yy+ht_im, xx:xx+wd_im] = img!!!!\n",
    "/home/karina/T2_Sag_Mid/train_data/masks/02271.PNG\n",
    "error in result_mask[yy:yy+ht_m, xx:xx+wd_m] = mask!!!!\n",
    "/home/karina/T2_Sag_Mid/train_data/imgs/02271.PNG\n",
    "error in result_img[yy:yy+ht_im, xx:xx+wd_im] = img!!!!\n",
    "/home/karina/T2_Sag_Mid/train_data/masks/02239.PNG\n",
    "error in result_mask[yy:yy+ht_m, xx:xx+wd_m] = mask!!!!\n",
    "/home/karina/T2_Sag_Mid/train_data/imgs/02239.PNG\n",
    "error in result_img[yy:yy+ht_im, xx:xx+wd_im] = img!!!!\n",
    "/home/karina/T2_Sag_Mid/train_data/masks/02257.PNG\n",
    "error in result_mask[yy:yy+ht_m, xx:xx+wd_m] = mask!!!!\n",
    "/home/karina/T2_Sag_Mid/train_data/imgs/02257.PNG\n",
    "error in result_img[yy:yy+ht_im, xx:xx+wd_im] = img!!!!\n",
    "/home/karina/T2_Sag_Mid/train_data/masks/02264.PNG\n",
    "error in result_mask[yy:yy+ht_m, xx:xx+wd_m] = mask!!!!\n",
    "/home/karina/T2_Sag_Mid/train_data/imgs/02264.PNG\n",
    "error in result_img[yy:yy+ht_im, xx:xx+wd_im] = img!!!!\n",
    "/home/karina/T2_Sag_Mid/train_data/masks/02263.PNG\n",
    "error in result_mask[yy:yy+ht_m, xx:xx+wd_m] = mask!!!!\n",
    "/home/karina/T2_Sag_Mid/train_data/imgs/02263.PNG\n",
    "error in result_img[yy:yy+ht_im, xx:xx+wd_im] = img!!!!\n",
    "/home/karina/T2_Sag_Mid/train_data/masks/02246.PNG\n",
    "error in result_mask[yy:yy+ht_m, xx:xx+wd_m] = mask!!!!\n",
    "/home/karina/T2_Sag_Mid/train_data/imgs/02246.PNG\n",
    "error in result_img[yy:yy+ht_im, xx:xx+wd_im] = img!!!!\n",
    "/home/karina/T2_Sag_Mid/train_data/masks/02256.PNG\n",
    "error in result_mask[yy:yy+ht_m, xx:xx+wd_m] = mask!!!!\n",
    "/home/karina/T2_Sag_Mid/train_data/imgs/02256.PNG\n",
    "error in result_img[yy:yy+ht_im, xx:xx+wd_im] = img!!!!\n",
    "/home/karina/T2_Sag_Mid/train_data/masks/02261.PNG\n",
    "/home/karina/T2_Sag_Mid/train_data/masks/02265.PNG\n",
    "error in result_mask[yy:yy+ht_m, xx:xx+wd_m] = mask!!!!\n",
    "error in result_mask[yy:yy+ht_m, xx:xx+wd_m] = mask!!!!\n",
    "/home/karina/T2_Sag_Mid/train_data/imgs/02261.PNG\n",
    "error in result_img[yy:yy+ht_im, xx:xx+wd_im] = img!!!!\n",
    "/home/karina/T2_Sag_Mid/train_data/imgs/02265.PNG\n",
    "error in result_img[yy:yy+ht_im, xx:xx+wd_im] = img!!!!\n",
    "/home/karina/T2_Sag_Mid/train_data/masks/02226.PNG\n",
    "error in result_mask[yy:yy+ht_m, xx:xx+wd_m] = mask!!!!\n",
    "/home/karina/T2_Sag_Mid/train_data/imgs/02226.PNG\n",
    "error in result_img[yy:yy+ht_im, xx:xx+wd_im] = img!!!!\n",
    "/home/karina/T2_Sag_Mid/train_data/masks/02223.PNG\n",
    "error in result_mask[yy:yy+ht_m, xx:xx+wd_m] = mask!!!!\n",
    "/home/karina/T2_Sag_Mid/train_data/imgs/02223.PNG\n",
    "error in result_img[yy:yy+ht_im, xx:xx+wd_im] = img!!!!"
   ]
  },
  {
   "cell_type": "markdown",
   "metadata": {},
   "source": [
    "/home/karina/T2_Sag_Mid/train_data/masks/02236.PNG \n",
    "/home/karina/T2_Sag_Mid/train_data/imgs/02236.PNG"
   ]
  },
  {
   "cell_type": "code",
   "execution_count": null,
   "metadata": {},
   "outputs": [],
   "source": []
  },
  {
   "cell_type": "code",
   "execution_count": 51,
   "metadata": {},
   "outputs": [],
   "source": [
    "# read image\n",
    "img = Image.open('/home/karina/T2_Sag_Mid/train_data/imgs/02236.PNG').convert('L')\n",
    "wd, ht = img.size"
   ]
  },
  {
   "cell_type": "code",
   "execution_count": 52,
   "metadata": {},
   "outputs": [
    {
     "data": {
      "text/plain": [
       "(512, 480)"
      ]
     },
     "execution_count": 52,
     "metadata": {},
     "output_type": "execute_result"
    }
   ],
   "source": [
    "wd, ht"
   ]
  },
  {
   "cell_type": "code",
   "execution_count": null,
   "metadata": {},
   "outputs": [],
   "source": [
    "# color = (255 ,0, 0)\n",
    "result_img = np.full((hh,ww), 0, dtype=np.uint8)\n",
    "\n",
    "# compute center offset\n",
    "xx = (ww - wd) // 2\n",
    "yy = (hh - ht) // 2\n",
    "\n",
    "# copy img image into center of result image\n",
    "result_img[yy:yy+ht, xx:xx+wd] = img\n",
    "\n",
    "# # save result\n",
    "# cv2.imwrite(\"casted.jpg\", result)"
   ]
  },
  {
   "cell_type": "code",
   "execution_count": null,
   "metadata": {},
   "outputs": [],
   "source": []
  },
  {
   "cell_type": "code",
   "execution_count": null,
   "metadata": {},
   "outputs": [],
   "source": []
  }
 ],
 "metadata": {
  "kernelspec": {
   "display_name": "Python 3",
   "language": "python",
   "name": "python3"
  },
  "language_info": {
   "codemirror_mode": {
    "name": "ipython",
    "version": 3
   },
   "file_extension": ".py",
   "mimetype": "text/x-python",
   "name": "python",
   "nbconvert_exporter": "python",
   "pygments_lexer": "ipython3",
   "version": "3.7.2"
  }
 },
 "nbformat": 4,
 "nbformat_minor": 2
}
