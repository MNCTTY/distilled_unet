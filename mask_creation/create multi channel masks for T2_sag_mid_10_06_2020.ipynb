{
 "cells": [
  {
   "cell_type": "code",
   "execution_count": 52,
   "metadata": {},
   "outputs": [],
   "source": [
    "import numpy\n",
    "from PIL import Image, ImageDraw\n",
    "import json\n",
    "import matplotlib.pyplot as plt \n",
    "import cv2"
   ]
  },
  {
   "cell_type": "code",
   "execution_count": 128,
   "metadata": {},
   "outputs": [],
   "source": [
    "# dir_ = '0-531/' #до 348 размечено \n",
    "# dir_ = '1064-1595/' #до 01324 размечено\n",
    "# dir_ = '1596-2127(возможно кривойjson)/' #да кривой, оба джейсона дают все пустые маски\n",
    "\n",
    "# dir_ = '2128-2659/' #до 2427 размечено\n",
    "# dir_ = '2660-3191/' # до 2965\n",
    "\n",
    "dir_ = '3192-3723/' # 3292\n",
    "\n",
    "# dir_ = '532-1063/' #как-то неравномерно "
   ]
  },
  {
   "cell_type": "code",
   "execution_count": 129,
   "metadata": {},
   "outputs": [],
   "source": [
    "json_name = \"MRI Lumbar Part2.json\"\n",
    "# json_name = 'MRI Lumbar Part2.json.json'\n",
    "# json_name = 'MRI_2659.json'\n",
    "# json_name = 'MRI_3191.json'\n",
    "# беру всегда part2, когда он есть, потому что они выглядят the same\n"
   ]
  },
  {
   "cell_type": "code",
   "execution_count": 130,
   "metadata": {},
   "outputs": [],
   "source": [
    "raw_data = []\n",
    "with open(dir_+json_name, \"r\") as file: \n",
    "    raw_data = json.load(file)"
   ]
  },
  {
   "cell_type": "code",
   "execution_count": 131,
   "metadata": {},
   "outputs": [
    {
     "data": {
      "text/plain": [
       "532"
      ]
     },
     "execution_count": 131,
     "metadata": {},
     "output_type": "execute_result"
    }
   ],
   "source": [
    "all_keys = []\n",
    "for key in raw_data['_via_img_metadata'].keys():\n",
    "    all_keys.append(key)\n",
    "len(all_keys)"
   ]
  },
  {
   "cell_type": "code",
   "execution_count": 132,
   "metadata": {},
   "outputs": [],
   "source": [
    "pics_path = dir_ + 'pictures/'\n",
    "masks_path = dir_ + 'masks/'"
   ]
  },
  {
   "cell_type": "code",
   "execution_count": 133,
   "metadata": {},
   "outputs": [],
   "source": [
    "import os\n",
    "if not os.path.exists(masks_path):\n",
    "    os.makedirs(masks_path)"
   ]
  },
  {
   "cell_type": "code",
   "execution_count": 134,
   "metadata": {},
   "outputs": [],
   "source": [
    "fucked_imgs = []\n",
    "zero_files = []\n",
    "for k in range(0, len(all_keys)):\n",
    "    filename = raw_data['_via_img_metadata'][all_keys[k]]['filename']\n",
    "\n",
    "    image = Image.open(pics_path + filename)\n",
    "    width = image.size[0] \n",
    "    height = image.size[1]\n",
    "    \n",
    "#     img = Image.new('LA', (width, height), 0)\n",
    "    img1 = Image.new('L',(width, height), 0)\n",
    "    img2 = Image.new('L',(width, height), 0)\n",
    "    img_old = Image.new('L',(width, height), 0)\n",
    "    for i in range(len(raw_data['_via_img_metadata'][all_keys[k]]['regions'])):\n",
    "        try:\n",
    "            xs = raw_data['_via_img_metadata'][all_keys[k]]['regions'][i]['shape_attributes']['all_points_x']\n",
    "            ys = raw_data['_via_img_metadata'][all_keys[k]]['regions'][i]['shape_attributes']['all_points_y']\n",
    "            all_pairs = []\n",
    "            for j in range(len(ys)):\n",
    "                all_pairs.append((xs[j], ys[j]))\n",
    "\n",
    "            if raw_data['_via_img_metadata'][all_keys[k]]['regions'][i]['region_attributes']['А3'] == 'disc':\n",
    "                ImageDraw.Draw(img1).polygon(all_pairs, outline=1, fill=1)\n",
    "            elif raw_data['_via_img_metadata'][all_keys[k]]['regions'][i]['region_attributes']['А3'] == 'spinal canal':\n",
    "                ImageDraw.Draw(img2).polygon(all_pairs, outline=1, fill=1)\n",
    "\n",
    "            if raw_data['_via_img_metadata'][all_keys[k]]['regions'][i]['region_attributes']['А3'] == 'disc':\n",
    "                ImageDraw.Draw(img_old).polygon(all_pairs, outline=1, fill=1)\n",
    "            elif raw_data['_via_img_metadata'][all_keys[k]]['regions'][i]['region_attributes']['А3'] == 'spinal canal':\n",
    "                ImageDraw.Draw(img_old).polygon(all_pairs, outline=1, fill=1)\n",
    "        except:\n",
    "#             print('fucked image - not labeled at all or прямоугольник')\n",
    "#             print(pics_path + filename)\n",
    "            fucked_imgs.append(pics_path + filename)\n",
    "            \n",
    "        \n",
    "#     mask = numpy.array(img)\n",
    "    mask_old = numpy.array(img_old)\n",
    "    mask1 = numpy.array(img1)\n",
    "    mask2 = numpy.array(img2)\n",
    "    \n",
    "    if len(numpy.unique(mask_old)) == 1:\n",
    "        zero_files.append(pics_path + filename)\n",
    "    \n",
    "    mask = numpy.dstack((mask1, mask2, mask_old))\n",
    "\n",
    "    #plt.imsave(masks_path +filename, mask)\n",
    "    cv2.imwrite(masks_path +filename, mask)"
   ]
  },
  {
   "cell_type": "code",
   "execution_count": 135,
   "metadata": {},
   "outputs": [
    {
     "data": {
      "text/plain": [
       "433"
      ]
     },
     "execution_count": 135,
     "metadata": {},
     "output_type": "execute_result"
    }
   ],
   "source": [
    "len(zero_files)"
   ]
  },
  {
   "cell_type": "code",
   "execution_count": 136,
   "metadata": {},
   "outputs": [
    {
     "data": {
      "text/plain": [
       "0"
      ]
     },
     "execution_count": 136,
     "metadata": {},
     "output_type": "execute_result"
    }
   ],
   "source": [
    "len(fucked_imgs)"
   ]
  },
  {
   "cell_type": "code",
   "execution_count": 137,
   "metadata": {},
   "outputs": [
    {
     "data": {
      "text/plain": [
       "'3192-3723/pictures/03242.PNG'"
      ]
     },
     "execution_count": 137,
     "metadata": {},
     "output_type": "execute_result"
    }
   ],
   "source": [
    "zero_files[0]"
   ]
  },
  {
   "cell_type": "code",
   "execution_count": 138,
   "metadata": {},
   "outputs": [
    {
     "data": {
      "text/plain": [
       "'pictures'"
      ]
     },
     "execution_count": 138,
     "metadata": {},
     "output_type": "execute_result"
    }
   ],
   "source": [
    "zero_files[0].split('/')[-2]"
   ]
  },
  {
   "cell_type": "code",
   "execution_count": 144,
   "metadata": {},
   "outputs": [],
   "source": [
    "# fucked_imgs[0]"
   ]
  },
  {
   "cell_type": "markdown",
   "metadata": {},
   "source": [
    "# remove to special folders not labeled imgs and their empty masks"
   ]
  },
  {
   "cell_type": "code",
   "execution_count": 145,
   "metadata": {},
   "outputs": [],
   "source": [
    "zero_masks = []\n",
    "for file in zero_files:\n",
    "    parts = file.split('/')\n",
    "    parts[-2] = 'masks'\n",
    "    file = '/'.join(parts)\n",
    "    zero_masks.append(file)"
   ]
  },
  {
   "cell_type": "code",
   "execution_count": 146,
   "metadata": {},
   "outputs": [
    {
     "data": {
      "text/plain": [
       "'3192-3723/masks/03242.PNG'"
      ]
     },
     "execution_count": 146,
     "metadata": {},
     "output_type": "execute_result"
    }
   ],
   "source": [
    "zero_masks[0]"
   ]
  },
  {
   "cell_type": "code",
   "execution_count": 147,
   "metadata": {},
   "outputs": [
    {
     "name": "stdout",
     "output_type": "stream",
     "text": [
      "Directory  3192-3723_zero  already exists\n",
      "Directory  3192-3723_zero/masks  already exists\n",
      "Directory  3192-3723_zero/pictures  already exists\n"
     ]
    }
   ],
   "source": [
    "# Create directory\n",
    "dirName = dir_[:-1]+'_zero'\n",
    "try:\n",
    "# Create target Directory\n",
    "    os.mkdir(dirName)\n",
    "    print(\"Directory \" , dirName ,  \" Created \") \n",
    "except FileExistsError:\n",
    "    print(\"Directory \" , dirName ,  \" already exists\")\n",
    "    \n",
    "try:\n",
    "# Create target Directory\n",
    "    os.mkdir(dirName+'/masks')\n",
    "    print(\"Directory \" , dirName+'/masks' ,  \" Created \") \n",
    "except FileExistsError:\n",
    "    print(\"Directory \" , dirName+'/masks' ,  \" already exists\")\n",
    "    \n",
    "try:\n",
    "# Create target Directory\n",
    "    os.mkdir(dirName+'/pictures')\n",
    "    print(\"Directory \" , dirName+'/pictures' ,  \" Created \") \n",
    "except FileExistsError:\n",
    "    print(\"Directory \" , dirName+'/pictures' ,  \" already exists\")"
   ]
  },
  {
   "cell_type": "code",
   "execution_count": 148,
   "metadata": {},
   "outputs": [],
   "source": [
    "new_dest_imgs = []\n",
    "new_dest_masks = []\n",
    "\n",
    "for file in zero_files:\n",
    "    parts = file.split('/')\n",
    "    parts[0] = dirName\n",
    "    res = '/'.join(parts)\n",
    "    new_dest_imgs.append(res)\n",
    "    \n",
    "for file in zero_masks:\n",
    "    parts = file.split('/')\n",
    "    parts[0] = dirName\n",
    "    res = '/'.join(parts)\n",
    "    new_dest_masks.append(res)"
   ]
  },
  {
   "cell_type": "code",
   "execution_count": 150,
   "metadata": {},
   "outputs": [],
   "source": [
    "for i in range(len(zero_files)):\n",
    "    os.rename(zero_files[i], new_dest_imgs[i])\n",
    "    os.rename(zero_masks[i], new_dest_masks[i])"
   ]
  },
  {
   "cell_type": "markdown",
   "metadata": {},
   "source": [
    "# copy non zero imgs and masks to train folder"
   ]
  },
  {
   "cell_type": "code",
   "execution_count": 151,
   "metadata": {},
   "outputs": [
    {
     "name": "stdout",
     "output_type": "stream",
     "text": [
      "Directory  train_data  Created \n",
      "Directory  test_data  Created \n"
     ]
    }
   ],
   "source": [
    "dirName = 'train_data'\n",
    "try:\n",
    "# Create target Directory\n",
    "    os.mkdir(dirName)\n",
    "    print(\"Directory \" , dirName ,  \" Created \") \n",
    "except FileExistsError:\n",
    "    print(\"Directory \" , dirName ,  \" already exists\")\n",
    "    \n",
    "\n",
    "dirName = 'test_data'\n",
    "try:\n",
    "# Create target Directory\n",
    "    os.mkdir(dirName)\n",
    "    print(\"Directory \" , dirName ,  \" Created \") \n",
    "except FileExistsError:\n",
    "    print(\"Directory \" , dirName ,  \" already exists\")"
   ]
  },
  {
   "cell_type": "code",
   "execution_count": 154,
   "metadata": {},
   "outputs": [
    {
     "name": "stdout",
     "output_type": "stream",
     "text": [
      "Directory  train_data/masks  Created \n",
      "Directory  train_data/imgs  Created \n"
     ]
    }
   ],
   "source": [
    "dirName = 'train_data/masks'\n",
    "try:\n",
    "# Create target Directory\n",
    "    os.mkdir(dirName)\n",
    "    print(\"Directory \" , dirName ,  \" Created \") \n",
    "except FileExistsError:\n",
    "    print(\"Directory \" , dirName ,  \" already exists\")\n",
    "    \n",
    "\n",
    "dirName = 'train_data/imgs'\n",
    "try:\n",
    "# Create target Directory\n",
    "    os.mkdir(dirName)\n",
    "    print(\"Directory \" , dirName ,  \" Created \") \n",
    "except FileExistsError:\n",
    "    print(\"Directory \" , dirName ,  \" already exists\")"
   ]
  },
  {
   "cell_type": "code",
   "execution_count": 183,
   "metadata": {},
   "outputs": [
    {
     "name": "stdout",
     "output_type": "stream",
     "text": [
      "Directory  test_data/masks  Created \n",
      "Directory  test_data/imgs  Created \n"
     ]
    }
   ],
   "source": [
    "dirName = 'test_data/masks'\n",
    "try:\n",
    "# Create target Directory\n",
    "    os.mkdir(dirName)\n",
    "    print(\"Directory \" , dirName ,  \" Created \") \n",
    "except FileExistsError:\n",
    "    print(\"Directory \" , dirName ,  \" already exists\")\n",
    "    \n",
    "\n",
    "dirName = 'test_data/imgs'\n",
    "try:\n",
    "# Create target Directory\n",
    "    os.mkdir(dirName)\n",
    "    print(\"Directory \" , dirName ,  \" Created \") \n",
    "except FileExistsError:\n",
    "    print(\"Directory \" , dirName ,  \" already exists\")"
   ]
  },
  {
   "cell_type": "code",
   "execution_count": 161,
   "metadata": {},
   "outputs": [],
   "source": [
    "list_of_dirs = [\n",
    "    '0-531/',\n",
    "    '1064-1595/',\n",
    "    '2128-2659/',\n",
    "    '2660-3191/',\n",
    "    '3192-3723/',\n",
    "    '532-1063/'\n",
    "]\n"
   ]
  },
  {
   "cell_type": "markdown",
   "metadata": {},
   "source": [
    "# test"
   ]
  },
  {
   "cell_type": "code",
   "execution_count": 169,
   "metadata": {},
   "outputs": [],
   "source": [
    "# os.listdir(list_of_dirs[0]+'masks') \n",
    "# os.listdir(list_of_dirs[0]+'pictures') "
   ]
  },
  {
   "cell_type": "code",
   "execution_count": 171,
   "metadata": {},
   "outputs": [
    {
     "data": {
      "text/plain": [
       "'00006.PNG'"
      ]
     },
     "execution_count": 171,
     "metadata": {},
     "output_type": "execute_result"
    }
   ],
   "source": [
    "os.listdir(list_of_dirs[0]+'pictures/')[0]"
   ]
  },
  {
   "cell_type": "code",
   "execution_count": 172,
   "metadata": {},
   "outputs": [],
   "source": [
    "img_list = os.listdir(list_of_dirs[0]+'pictures/') \n",
    "masks_list = os.listdir(list_of_dirs[0]+'masks/') \n",
    "\n",
    "img_src_pathes = []\n",
    "for img in img_list:\n",
    "    img_src_pathes.append(list_of_dirs[0]+'pictures/'+img)\n",
    "    \n",
    "mask_src_pathes = []\n",
    "for mask in masks_list:\n",
    "    mask_src_pathes.append(list_of_dirs[0]+'masks/'+mask)"
   ]
  },
  {
   "cell_type": "code",
   "execution_count": 174,
   "metadata": {},
   "outputs": [],
   "source": [
    "# mask_src_pathes"
   ]
  },
  {
   "cell_type": "code",
   "execution_count": 178,
   "metadata": {},
   "outputs": [
    {
     "data": {
      "text/plain": [
       "'0-531/masks/00006.PNG'"
      ]
     },
     "execution_count": 178,
     "metadata": {},
     "output_type": "execute_result"
    }
   ],
   "source": [
    "# mask_src_pathes[0]"
   ]
  },
  {
   "cell_type": "code",
   "execution_count": 184,
   "metadata": {},
   "outputs": [
    {
     "data": {
      "text/plain": [
       "['masks', 'imgs']"
      ]
     },
     "execution_count": 184,
     "metadata": {},
     "output_type": "execute_result"
    }
   ],
   "source": [
    "# os.listdir('test_data')"
   ]
  },
  {
   "cell_type": "code",
   "execution_count": 185,
   "metadata": {},
   "outputs": [],
   "source": [
    "img_dst_pathes = []\n",
    "mask_dst_pathes = []\n",
    "\n",
    "for mask in masks_list:\n",
    "    mask_dst_pathes.append('test_data/masks/' + mask)\n",
    "for img in img_list:\n",
    "    img_dst_pathes.append('test_data/imgs/'+img)"
   ]
  },
  {
   "cell_type": "code",
   "execution_count": 188,
   "metadata": {},
   "outputs": [
    {
     "data": {
      "text/plain": [
       "('test_data/masks/00156.PNG', '0-531/masks/00156.PNG')"
      ]
     },
     "execution_count": 188,
     "metadata": {},
     "output_type": "execute_result"
    }
   ],
   "source": [
    "# mask_dst_pathes[10], mask_src_pathes[10]"
   ]
  },
  {
   "cell_type": "code",
   "execution_count": 189,
   "metadata": {},
   "outputs": [],
   "source": [
    "for i in range(len(img_dst_pathes)):\n",
    "    os.rename(img_src_pathes[i], img_dst_pathes[i])\n",
    "    os.rename(mask_src_pathes[i], mask_dst_pathes[i])"
   ]
  },
  {
   "cell_type": "markdown",
   "metadata": {},
   "source": [
    "# train data"
   ]
  },
  {
   "cell_type": "code",
   "execution_count": 190,
   "metadata": {},
   "outputs": [
    {
     "data": {
      "text/plain": [
       "['1064-1595/', '2128-2659/', '2660-3191/', '3192-3723/', '532-1063/']"
      ]
     },
     "execution_count": 190,
     "metadata": {},
     "output_type": "execute_result"
    }
   ],
   "source": [
    "list_of_dirs[1:]"
   ]
  },
  {
   "cell_type": "code",
   "execution_count": 192,
   "metadata": {},
   "outputs": [],
   "source": [
    "for dir_ in list_of_dirs[1:]:\n",
    "    img_list = os.listdir(dir_+'pictures/') \n",
    "    masks_list = os.listdir(dir_+'masks/') \n",
    "\n",
    "    img_src_pathes = []\n",
    "    for img in img_list:\n",
    "        img_src_pathes.append(dir_+'pictures/'+img)\n",
    "\n",
    "    mask_src_pathes = []\n",
    "    for mask in masks_list:\n",
    "        mask_src_pathes.append(dir_+'masks/'+mask)\n",
    "\n",
    "    img_dst_pathes = []\n",
    "    mask_dst_pathes = []\n",
    "\n",
    "    for mask in masks_list:\n",
    "        mask_dst_pathes.append('train_data/masks/' + mask)\n",
    "    for img in img_list:\n",
    "        img_dst_pathes.append('train_data/imgs/'+img)\n",
    "\n",
    "    for i in range(len(img_dst_pathes)):\n",
    "        os.rename(img_src_pathes[i], img_dst_pathes[i])\n",
    "        os.rename(mask_src_pathes[i], mask_dst_pathes[i])"
   ]
  },
  {
   "cell_type": "code",
   "execution_count": null,
   "metadata": {},
   "outputs": [],
   "source": []
  }
 ],
 "metadata": {
  "kernelspec": {
   "display_name": "Python 3",
   "language": "python",
   "name": "python3"
  },
  "language_info": {
   "codemirror_mode": {
    "name": "ipython",
    "version": 3
   },
   "file_extension": ".py",
   "mimetype": "text/x-python",
   "name": "python",
   "nbconvert_exporter": "python",
   "pygments_lexer": "ipython3",
   "version": "3.7.2"
  }
 },
 "nbformat": 4,
 "nbformat_minor": 2
}
